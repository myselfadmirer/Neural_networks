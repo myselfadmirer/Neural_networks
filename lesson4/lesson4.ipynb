{
 "cells": [
  {
   "cell_type": "markdown",
   "id": "6835fa8a-2312-4d0a-8c7f-a2fbd467f7cc",
   "metadata": {
    "tags": []
   },
   "source": [
    "## - обучить сверточную нейронную сеть в стиле AlexNet (с падением размера ядра свертки и последовательностью блоков свертка-пулинг  (conv-pool)-(conv-pool)-...) на датасете fashion-mnist\n",
    "## - оценить рост точности при увеличении ширины сети (больше ядер)\n",
    "## - оценить рост точности при увеличении глубины сети (больше слоев)\n",
    "## - сравнить с точностью полносвязной сети для этой выборки"
   ]
  },
  {
   "cell_type": "code",
   "execution_count": 7,
   "id": "e73b5fd7-55a8-4271-926e-84d02a307c1a",
   "metadata": {},
   "outputs": [],
   "source": [
    "import os\n",
    "os.environ['TF_CPP_MIN_LOG_LEVEL'] = '2'"
   ]
  },
  {
   "cell_type": "code",
   "execution_count": 28,
   "id": "aa55c47f-ac73-4968-9097-075729fd3ceb",
   "metadata": {},
   "outputs": [],
   "source": [
    "import numpy as np\n",
    "import pandas as pd\n",
    "\n",
    "import matplotlib.pyplot as plt\n",
    "%matplotlib inline\n",
    "\n",
    "from sklearn.metrics import confusion_matrix, classification_report\n",
    "\n",
    "import tensorflow as tf\n",
    "from tensorflow.keras.models import Sequential, Model\n",
    "from tensorflow.keras.layers import Conv2D, Input, Dense, Activation, Flatten, Dropout\n",
    "from tensorflow.keras.layers import GlobalMaxPooling2D, MaxPooling2D, AveragePooling2D, GlobalAveragePooling2D \n",
    "from keras.datasets import fashion_mnist\n",
    "from tensorflow.keras.utils import to_categorical\n",
    "from tensorflow.keras.layers.experimental import preprocessing\n",
    "\n",
    "# keras.losses.SparseCategoricalCrossentropy()\n",
    "from tensorflow.keras.losses import categorical_crossentropy\n",
    "# tensorflow.keras.metrics.accuracy\n",
    "\n",
    "import warnings\n",
    "warnings.simplefilter(action='ignore', category=FutureWarning)\n",
    "warnings.filterwarnings('ignore')"
   ]
  },
  {
   "cell_type": "code",
   "execution_count": 29,
   "id": "4a5d17a0-8668-42ba-bde5-0c81e82b3c63",
   "metadata": {},
   "outputs": [],
   "source": [
    "# загрузка тренировочных и тестовых данных\n",
    "(x_train, y_train), (x_test, y_test) = fashion_mnist.load_data()\n",
    "\n",
    "# конвертация чисел из uint8 в float32\n",
    "x_train = x_train.astype('float32')\n",
    "x_test = x_test.astype('float32')\n",
    "\n",
    "# нормализация данных [0, 1]\n",
    "x_train /= 255 \n",
    "x_test /= 255 \n",
    "\n",
    "# трансформация лейблов в one-hot encoding\n",
    "y_train = to_categorical(y_train, 10) \n",
    "y_test = to_categorical(y_test, 10) \n",
    "\n",
    "# изменение размерности массива в 4D массив\n",
    "x_train = x_train.reshape(x_train.shape[0], 28,28,1)\n",
    "x_test = x_test.reshape(x_test.shape[0], 28,28,1)"
   ]
  },
  {
   "cell_type": "code",
   "execution_count": 30,
   "id": "223ba050-e41f-424d-b7cd-7a0f68a9c36b",
   "metadata": {},
   "outputs": [
    {
     "data": {
      "image/png": "[encoded data removed]",
      "text/plain": [
       "<Figure size 432x288 with 1 Axes>"
      ]
     },
     "metadata": {
      "needs_background": "light"
     },
     "output_type": "display_data"
    },
    {
     "name": "stdout",
     "output_type": "stream",
     "text": [
      "[1. 0. 0. 0. 0. 0. 0. 0. 0. 0.]\n"
     ]
    }
   ],
   "source": [
    "plt.imshow(x_train[10,:,:])\n",
    "plt.show()\n",
    "print(y_train[10])"
   ]
  },
  {
   "cell_type": "code",
   "execution_count": 31,
   "id": "2ddc6a4b-1958-4339-8a73-80a5251a6d45",
   "metadata": {},
   "outputs": [
    {
     "data": {
      "text/plain": [
       "array([[0., 0., 0., 0., 0., 0., 0., 0., 0., 1.],\n",
       "       [1., 0., 0., 0., 0., 0., 0., 0., 0., 0.],\n",
       "       [1., 0., 0., 0., 0., 0., 0., 0., 0., 0.],\n",
       "       [0., 0., 0., 1., 0., 0., 0., 0., 0., 0.],\n",
       "       [1., 0., 0., 0., 0., 0., 0., 0., 0., 0.],\n",
       "       [0., 0., 1., 0., 0., 0., 0., 0., 0., 0.],\n",
       "       [0., 0., 0., 0., 0., 0., 0., 1., 0., 0.],\n",
       "       [0., 0., 1., 0., 0., 0., 0., 0., 0., 0.],\n",
       "       [0., 0., 0., 0., 0., 1., 0., 0., 0., 0.],\n",
       "       [0., 0., 0., 0., 0., 1., 0., 0., 0., 0.]], dtype=float32)"
      ]
     },
     "execution_count": 31,
     "metadata": {},
     "output_type": "execute_result"
    }
   ],
   "source": [
    "y_train[:10]"
   ]
  },
  {
   "cell_type": "code",
   "execution_count": 32,
   "id": "a4b000af-1354-4a09-ab71-d55771594436",
   "metadata": {},
   "outputs": [
    {
     "data": {
      "text/plain": [
       "array([], shape=(0, 28, 1), dtype=float32)"
      ]
     },
     "execution_count": 32,
     "metadata": {},
     "output_type": "execute_result"
    }
   ],
   "source": [
    "x_train[202,150:160]"
   ]
  },
  {
   "cell_type": "code",
   "execution_count": 33,
   "id": "aa0b9a89-5ae4-45a0-ab38-1bcf934b79d7",
   "metadata": {},
   "outputs": [
    {
     "data": {
      "text/plain": [
       "(60000, 28, 28, 1)"
      ]
     },
     "execution_count": 33,
     "metadata": {},
     "output_type": "execute_result"
    }
   ],
   "source": [
    "# Размер набора данных для обучения\n",
    "x_train.shape"
   ]
  },
  {
   "cell_type": "markdown",
   "id": "6b84c7c7-3308-43fd-93f4-aa6a64900406",
   "metadata": {},
   "source": [
    "### Соберем сеть"
   ]
  },
  {
   "cell_type": "code",
   "execution_count": 39,
   "id": "047448bd-2a33-4d2f-a361-61fd74c2c69f",
   "metadata": {},
   "outputs": [
    {
     "data": {
      "text/plain": [
       "10"
      ]
     },
     "execution_count": 39,
     "metadata": {},
     "output_type": "execute_result"
    }
   ],
   "source": [
    "batch_size=32\n",
    "epochs = 5\n",
    "num_predictions = 20\n",
    "labels = {\n",
    "        0: 'футболка',\n",
    "        1: 'брюки',\n",
    "        2: 'свитер',\n",
    "        3: 'платье',\n",
    "        4: 'куртка',\n",
    "        5: 'сандалии',\n",
    "        6: 'рубашка',\n",
    "        7: 'кроссовки',\n",
    "        8: 'сумка',\n",
    "        9: 'ботинки',\n",
    "            }\n",
    "len(labels)"
   ]
  },
  {
   "cell_type": "code",
   "execution_count": null,
   "id": "ed8e8a70-d211-4542-a416-93fcbc5f6939",
   "metadata": {
    "colab": {
     "base_uri": "https://localhost:8080/"
    },
    "id": "q_1hNBrl2enw",
    "outputId": "b4af3bbc-3c71-4544-9188-572521ccc96e"
   },
   "outputs": [
    {
     "name": "stderr",
     "output_type": "stream",
     "text": [
      "2021-08-10 19:47:57.289201: W tensorflow/core/framework/cpu_allocator_impl.cc:80] Allocation of 188160000 exceeds 10% of free system memory.\n",
      "2021-08-10 19:47:57.406878: I tensorflow/compiler/mlir/mlir_graph_optimization_pass.cc:176] None of the MLIR Optimization Passes are enabled (registered 2)\n",
      "2021-08-10 19:47:57.424831: I tensorflow/core/platform/profile_utils/cpu_utils.cc:114] CPU Frequency: 2099940000 Hz\n"
     ]
    },
    {
     "name": "stdout",
     "output_type": "stream",
     "text": [
      "Epoch 1/5\n",
      "1875/1875 [==============================] - 87s 46ms/step - loss: 1.0000 - accuracy: 0.6274 - val_loss: 0.6013 - val_accuracy: 0.7754\n",
      "Epoch 2/5\n",
      "  86/1875 [>.............................] - ETA: 1:18 - loss: 0.6672 - accuracy: 0.7500"
     ]
    }
   ],
   "source": [
    "\n",
    "\n",
    "# конфигурирование слоев нейросети\n",
    "model = Sequential()\n",
    "\n",
    "# слои нейросети отвественные за свертку и max-pooling\n",
    "model.add(Conv2D(32, (3, 3), padding='same',\n",
    "                 input_shape=x_train.shape[1:]))\n",
    "model.add(Activation('relu'))\n",
    "model.add(Conv2D(32, (3, 3)))\n",
    "model.add(Activation('relu'))\n",
    "model.add(MaxPooling2D(pool_size=(2, 2)))\n",
    "model.add(Dropout( 0.25))\n",
    "\n",
    "model.add(Conv2D(64, (3, 3), padding='same'))\n",
    "model.add(Activation('relu'))\n",
    "model.add(Conv2D(64, (3, 3)))\n",
    "model.add(Activation('relu'))\n",
    "model.add(MaxPooling2D(pool_size=(2, 2)))\n",
    "model.add(Dropout(0.25))\n",
    "\n",
    "# полносвязные слои нейронной сети\n",
    "model.add(Flatten())\n",
    "model.add(Dense(512))\n",
    "model.add(Activation('relu'))\n",
    "model.add(Dropout(0.5))\n",
    "model.add(Dense(len(labels)))\n",
    "model.add(Activation('softmax'))\n",
    "\n",
    "# инициализация RMSprop optimizer\n",
    "#opt = tensorflow.keras.optimizers.RMSprop(lr=0.0001, decay=1e-6)\n",
    "\n",
    "# компиляция модели\n",
    "model.compile(loss='categorical_crossentropy',\n",
    "              optimizer='SGD',\n",
    "              metrics=['accuracy'])\n",
    "\n",
    "model.fit(x_train, y_train,\n",
    "              batch_size=batch_size,\n",
    "              epochs=epochs,\n",
    "              validation_data=(x_test, y_test),\n",
    "              shuffle=True)\n",
    "\n",
    "# if not data_augmentation:\n",
    "#     print('Не используется data augmentation')\n",
    "#     model.fit(x_train, y_train,\n",
    "#               batch_size=batch_size,\n",
    "#               epochs=epochs,\n",
    "#               validation_data=(x_test, y_test),\n",
    "#               shuffle=True)\n",
    "# else:\n",
    "#     print('Использование data augmentation в реальном времени')\n",
    "#     # Препроцессинг и data augmentation в реальном времени:\n",
    "#     datagen = ImageDataGenerator(\n",
    "#         featurewise_center=False,\n",
    "#         samplewise_center=False,\n",
    "#         featurewise_std_normalization=False,\n",
    "#         samplewise_std_normalization=False,\n",
    "#         zca_whitening=False, \n",
    "#         zca_epsilon=1e-06, \n",
    "#         rotation_range=0, \n",
    "#         width_shift_range=0.1,\n",
    "#         height_shift_range=0.1,\n",
    "#         shear_range=0., \n",
    "#         zoom_range=0., \n",
    "#         channel_shift_range=0.,\n",
    "#         fill_mode='nearest',\n",
    "#         cval=0.,\n",
    "#         horizontal_flip=True,\n",
    "#         vertical_flip=False,\n",
    "#         rescale=None,\n",
    "#         preprocessing_function=None,\n",
    "#         data_format=None,\n",
    "#         validation_split=0.0)\n",
    "\n",
    "#     # запуск data augmentation через fit\n",
    "#     #datagen.fit(x_train)\n",
    "\n",
    "#     # запуск data augmentation через fit_generator\n",
    "#     model.fit_generator(datagen.flow(x_train, y_train,\n",
    "#                                      batch_size=batch_size),\n",
    "#                         epochs=epochs,\n",
    "#                         validation_data=(x_test, y_test),\n",
    "#                         workers=4)\n",
    "\n",
    "# сохранение модели и весов\n",
    "if not os.path.isdir(save_dir):\n",
    "    os.makedirs(save_dir)\n",
    "model_path = os.path.join(save_dir, model_name)\n",
    "model.save(model_path)\n",
    "print('сохранить обученную модель как %s ' % model_path)\n",
    "\n",
    "# проверка работы обученной модели\n",
    "scores = model.evaluate(x_test, y_test, verbose=1)\n",
    "print('Test loss:', scores[0])\n",
    "print('Test accuracy:', scores[1])"
   ]
  },
  {
   "cell_type": "markdown",
   "id": "08c13082-0011-4882-b525-07325527aadb",
   "metadata": {
    "id": "7Dpt47ChnboH"
   },
   "source": [
    "Сделаем предикт для примеров тестов"
   ]
  },
  {
   "cell_type": "code",
   "execution_count": null,
   "id": "57d6cb41-cbf8-4c0e-8a78-cd21d91bb1c5",
   "metadata": {
    "id": "TEPUKwJP5FSA"
   },
   "outputs": [],
   "source": [
    "N = 30\n",
    "y_p=model.predict(x_test[N:N+1][:,:,:])\n",
    "y_t = np.argmax(y_test[N:N+1], axis = 1 )\n",
    "y_i = np.argmax(y_p, axis = 1 )\n",
    "plt.imshow(x_test[N][:,:,:])\n",
    "plt.title('это : '+classes[y_t[0]]+'- опознан как : '+classes[y_i[0]])\n",
    "plt.show()"
   ]
  },
  {
   "cell_type": "code",
   "execution_count": null,
   "id": "9daebbb3-58be-46e9-9534-ad725f18809f",
   "metadata": {},
   "outputs": [],
   "source": []
  }
 ],
 "metadata": {
  "kernelspec": {
   "display_name": "Python 3 (ipykernel)",
   "language": "python",
   "name": "python3"
  },
  "language_info": {
   "codemirror_mode": {
    "name": "ipython",
    "version": 3
   },
   "file_extension": ".py",
   "mimetype": "text/x-python",
   "name": "python",
   "nbconvert_exporter": "python",
   "pygments_lexer": "ipython3",
   "version": "3.8.10"
  }
 },
 "nbformat": 4,
 "nbformat_minor": 5
}
